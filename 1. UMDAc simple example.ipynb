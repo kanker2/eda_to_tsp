{
 "cells": [
  {
   "cell_type": "code",
   "execution_count": 4,
   "id": "fc35fbe6",
   "metadata": {},
   "outputs": [
    {
     "name": "stdout",
     "output_type": "stream",
     "text": [
      "IT: 0\tBest cost:  -9\n",
      "IT:  1 \tBest cost:  -10\n",
      "IT:  2 \tBest cost:  -10\n",
      "IT:  3 \tBest cost:  -10\n",
      "IT:  4 \tBest cost:  -10\n",
      "IT:  5 \tBest cost:  -10\n",
      "IT:  6 \tBest cost:  -10\n",
      "IT:  7 \tBest cost:  -10\n",
      "IT:  8 \tBest cost:  -10\n",
      "IT:  9 \tBest cost:  -10\n",
      "IT:  10 \tBest cost:  -10\n",
      "\tNFEVALS = 1200 F = -10\n",
      "\tX = [1 1 1 1 1 1 1 1 1 1]\n"
     ]
    }
   ],
   "source": [
    "from EDAspy.benchmarks import one_max\n",
    "from EDAspy.optimization import UMDAc, UMDAd\n",
    "\n",
    "def one_max_min(array):\n",
    "    return -one_max(array)\n",
    "\n",
    "umda = UMDAd(size_gen=100, max_iter=100, dead_iter=10, n_variables=10)\n",
    "# We leave bound by default\n",
    "eda_result = umda.minimize(one_max_min, True)"
   ]
  },
  {
   "cell_type": "code",
   "execution_count": 5,
   "id": "e7a00079",
   "metadata": {},
   "outputs": [
    {
     "name": "stdout",
     "output_type": "stream",
     "text": [
      "\tNFVALS = 1200 F = -10CPU time (s) = 0.015625\n",
      "\tX = [1 1 1 1 1 1 1 1 1 1]\n",
      "\tSettings: {'size_gen': 100, 'max_iter': 100, 'dead_iter': 10, 'n_variables': 10, 'alpha': 0.5, 'elite_factor': 0.4, 'disp': True, 'parallelize': False}\n",
      "\tHistory best cost per iteration: [-9, -10, -10, -10, -10, -10, -10, -10, -10, -10, -10, -10]\n"
     ]
    }
   ],
   "source": [
    "print(eda_result)"
   ]
  }
 ],
 "metadata": {
  "kernelspec": {
   "display_name": "edaspy-env",
   "language": "python",
   "name": "python3"
  },
  "language_info": {
   "codemirror_mode": {
    "name": "ipython",
    "version": 3
   },
   "file_extension": ".py",
   "mimetype": "text/x-python",
   "name": "python",
   "nbconvert_exporter": "python",
   "pygments_lexer": "ipython3",
   "version": "3.10.17"
  }
 },
 "nbformat": 4,
 "nbformat_minor": 5
}
